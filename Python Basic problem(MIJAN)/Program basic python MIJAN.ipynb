{
 "cells": [
  {
   "cell_type": "code",
   "execution_count": null,
   "id": "06f382f4",
   "metadata": {},
   "outputs": [],
   "source": [
    "#Python program to calculate the sum of two floating-point numbers using a function\n",
    "def sum_of_numbers(num1, num2):\n",
    "    return num1 + num2\n",
    "\n",
    "num1 = float(input(\"Enter the first number: \"))\n",
    "num2 = float(input(\"Enter the second number: \"))\n",
    "\n",
    "result = sum_of_numbers(num1, num2)\n",
    "print(\"Sum:\", result)\n"
   ]
  },
  {
   "cell_type": "code",
   "execution_count": null,
   "id": "17d91175",
   "metadata": {},
   "outputs": [],
   "source": [
    "#Python program to find the largest and smallest numbers among five integers:\n",
    "numbers = []\n",
    "\n",
    "for i in range(5):\n",
    "    num = int(input(\"Enter an integer number: \"))\n",
    "    numbers.append(num)\n",
    "\n",
    "largest = max(numbers)\n",
    "smallest = min(numbers)\n",
    "\n",
    "print(\"Largest number:\", largest)\n",
    "print(\"Smallest number:\", smallest)\n"
   ]
  },
  {
   "cell_type": "code",
   "execution_count": null,
   "id": "a67f5d93",
   "metadata": {},
   "outputs": [],
   "source": [
    "#Python program with functions for addition, subtraction, multiplication, and division of two floating-point numbers:\n",
    "def sum_numbers(num1, num2):\n",
    "    return num1 + num2\n",
    "\n",
    "def subtract_numbers(num1, num2):\n",
    "    return num1 - num2\n",
    "\n",
    "def multiply_numbers(num1, num2):\n",
    "    return num1 * num2\n",
    "\n",
    "def divide_numbers(num1, num2):\n",
    "    return num1 / num2\n",
    "\n",
    "num1 = float(input(\"Enter the first number: \"))\n",
    "num2 = float(input(\"Enter the second number: \"))\n",
    "\n",
    "print(\"Sum:\", sum_numbers(num1, num2))\n",
    "print(\"Difference:\", subtract_numbers(num1, num2))\n",
    "print(\"Product:\", multiply_numbers(num1, num2))\n",
    "print(\"Quotient:\", divide_numbers(num1, num2))\n"
   ]
  },
  {
   "cell_type": "code",
   "execution_count": null,
   "id": "b93db9a2",
   "metadata": {},
   "outputs": [],
   "source": [
    "#Python program for a survey of university student extracurricular activities:\n",
    "activity = input(\"Enter your extracurricular activity: \")\n",
    "\n",
    "if activity == \"brilliant\":\n",
    "    print(\"The student is more active and sincere.\")\n",
    "elif activity == \"better\":\n",
    "    print(\"The student is trying to join extracurricular activities.\")\n",
    "elif activity == \"good\":\n",
    "    print(\"The student is learning about extracurricular activities.\")\n",
    "elif activity == \"Nothing\":\n",
    "    print(\"The student has not joined any extracurricular activities yet.\")\n",
    "else:\n",
    "    print(\"Invalid input!\")\n"
   ]
  },
  {
   "cell_type": "code",
   "execution_count": null,
   "id": "7dc4ee75",
   "metadata": {},
   "outputs": [],
   "source": [
    "#Python program to display the values of an array in descending order:\n",
    "my_array = [9, 5, 2, 7, 1, 8, 4, 3, 6, 10]\n",
    "\n",
    "my_array.sort(reverse=True)\n",
    "\n",
    "print(\"Array in descending order:\", my_array)\n"
   ]
  },
  {
   "cell_type": "code",
   "execution_count": null,
   "id": "51c977b5",
   "metadata": {},
   "outputs": [],
   "source": [
    "#Python program to determine the student's grade based on marks:\n",
    "marks = int(input(\"Enter the marks: \"))\n",
    "\n",
    "if marks >= 80:\n",
    "    grade = \"A+\"\n",
    "elif marks >= 75:\n",
    "    grade = \"A\"\n",
    "elif marks >= 70:\n",
    "    grade = \"A-\"\n",
    "elif marks >= 65:\n",
    "    grade = \"B+\"\n",
    "elif marks >= 60:\n",
    "    grade = \"B-\"\n",
    "elif marks >= 55:\n",
    "    grade = \"D\"\n",
    "elif marks >= 50:\n",
    "    grade = \"C\"\n",
    "elif marks < 40:\n",
    "    grade = \"F\"\n",
    "else:\n",
    "    grade = \"Invalid marks\"\n",
    "\n",
    "print(\"Grade:\", grade)\n"
   ]
  },
  {
   "cell_type": "code",
   "execution_count": null,
   "id": "ed280743",
   "metadata": {},
   "outputs": [],
   "source": [
    "#Python program to find odd numbers between 1 and 200:\n",
    "print(\"Odd numbers between 1 and 200:\")\n",
    "for num in range(1, 201):\n",
    "    if num % 2 != 0:\n",
    "        print(num, end=\" \")\n"
   ]
  },
  {
   "cell_type": "code",
   "execution_count": null,
   "id": "14589843",
   "metadata": {},
   "outputs": [],
   "source": [
    "#Python program to check if age is greater than or equal to 18:\n",
    "age = int(input(\"Enter your age: \"))\n",
    "\n",
    "if age < 18:\n",
    "    print(\"Age must be greater than or equal to 18\")\n"
   ]
  },
  {
   "cell_type": "code",
   "execution_count": null,
   "id": "144381c9",
   "metadata": {},
   "outputs": [],
   "source": [
    "#Python program to check if age is greater than or equal to 50 or empty:\n",
    "age = input(\"Enter your age: \")\n",
    "\n",
    "if age:\n",
    "    age = int(age)\n",
    "    if age >= 50:\n",
    "        print(\"You are allowed\")\n",
    "    else:\n",
    "        print(\"You are not allowed\")\n",
    "else:\n",
    "    print(\"The field is empty\")\n"
   ]
  },
  {
   "cell_type": "code",
   "execution_count": null,
   "id": "bf354602",
   "metadata": {},
   "outputs": [],
   "source": [
    "#Python program to print numbers between two integers:\n",
    "first_num = int(input(\"Enter the first number: \"))\n",
    "second_num = int(input(\"Enter the second number: \"))\n",
    "\n",
    "if first_num < second_num:\n",
    "    for num in range(first_num, second_num + 1):\n",
    "        print(num, end=\" \")\n",
    "else:\n",
    "    print(\"Please give the first number smaller and the second number larger.\")\n"
   ]
  },
  {
   "cell_type": "code",
   "execution_count": null,
   "id": "bfc53daa",
   "metadata": {},
   "outputs": [],
   "source": [
    "#Python program using a while loop to print numbers in descending order:\n",
    "num = 49\n",
    "\n",
    "while num >= 1:\n",
    "    print(num, end=\" \")\n",
    "    num -= 1\n"
   ]
  },
  {
   "cell_type": "code",
   "execution_count": null,
   "id": "09ee8460",
   "metadata": {},
   "outputs": [],
   "source": [
    "#Python program to find the average of values in an array:\n",
    "my_array = [6, 11, 2, 0, 1, 6, 16, 6, 6, 3]\n",
    "total = 0\n",
    "\n",
    "for num in my_array:\n",
    "    total += num\n",
    "\n",
    "average = total / len(my_array)\n",
    "print(\"Average:\", average)\n"
   ]
  },
  {
   "cell_type": "code",
   "execution_count": null,
   "id": "ba628265",
   "metadata": {},
   "outputs": [],
   "source": []
  }
 ],
 "metadata": {
  "kernelspec": {
   "display_name": "Python 3 (ipykernel)",
   "language": "python",
   "name": "python3"
  },
  "language_info": {
   "codemirror_mode": {
    "name": "ipython",
    "version": 3
   },
   "file_extension": ".py",
   "mimetype": "text/x-python",
   "name": "python",
   "nbconvert_exporter": "python",
   "pygments_lexer": "ipython3",
   "version": "3.9.13"
  }
 },
 "nbformat": 4,
 "nbformat_minor": 5
}
